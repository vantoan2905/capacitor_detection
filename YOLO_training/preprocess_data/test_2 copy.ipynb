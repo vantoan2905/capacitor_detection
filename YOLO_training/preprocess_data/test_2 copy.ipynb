{
 "cells": [
  {
   "cell_type": "code",
   "execution_count": 2,
   "metadata": {},
   "outputs": [],
   "source": [
    "import os \n",
    "import pandas as pd\n",
    "import shutil"
   ]
  },
  {
   "cell_type": "code",
   "execution_count": 8,
   "metadata": {
    "scrolled": true
   },
   "outputs": [
    {
     "name": "stdout",
     "output_type": "stream",
     "text": [
      "C05 VS-W\n",
      "C05KVS-Y\n",
      "C10 CSH-Y\n",
      "C10CSHUY\n",
      "W18 S-UW\n",
      "Y18 VXUW\n",
      "Z10 S-UW\n",
      "Z18 S-UW\n"
     ]
    }
   ],
   "source": [
    "def copy_label(an_path, im_path):\n",
    "    for folder in os.listdir(im_path):\n",
    "            print(folder)\n",
    "            # os.makedirs(os.path.join(self.new_path, folder), exist_ok=True)\n",
    "            for file in os.listdir(os.path.join(im_path, folder)):\n",
    "                if file.endswith(\".json\"):\n",
    "                    shutil.copy(os.path.join(an_path,file), os.path.join(im_path, folder + \"\\\\\" + file))\n",
    "an_path = \"D:\\Work\\data\\label copy\"\n",
    "im_path = \"D:\\Work\\data\\dataset\"\n",
    "copy_label(an_path=an_path, im_path=im_path)"
   ]
  },
  {
   "cell_type": "code",
   "execution_count": 12,
   "metadata": {},
   "outputs": [
    {
     "name": "stdout",
     "output_type": "stream",
     "text": [
      "D:\\Work\\data\\dataset\\C05 VS-W\\053.json\n",
      "<_io.TextIOWrapper name='D:\\\\Work\\\\data\\\\dataset\\\\C05 VS-W\\\\053.json' mode='w' encoding='UTF-8'>\n",
      "D:\\Work\\data\\dataset\\C05KVS-Y\\019.json\n",
      "<_io.TextIOWrapper name='D:\\\\Work\\\\data\\\\dataset\\\\C05KVS-Y\\\\019.json' mode='w' encoding='UTF-8'>\n",
      "D:\\Work\\data\\dataset\\C05KVS-Y\\067.json\n",
      "<_io.TextIOWrapper name='D:\\\\Work\\\\data\\\\dataset\\\\C05KVS-Y\\\\067.json' mode='w' encoding='UTF-8'>\n",
      "D:\\Work\\data\\dataset\\C05KVS-Y\\068.json\n",
      "<_io.TextIOWrapper name='D:\\\\Work\\\\data\\\\dataset\\\\C05KVS-Y\\\\068.json' mode='w' encoding='UTF-8'>\n",
      "D:\\Work\\data\\dataset\\C10 CSH-Y\\000.json\n",
      "<_io.TextIOWrapper name='D:\\\\Work\\\\data\\\\dataset\\\\C10 CSH-Y\\\\000.json' mode='w' encoding='UTF-8'>\n",
      "D:\\Work\\data\\dataset\\C10 CSH-Y\\001.json\n",
      "<_io.TextIOWrapper name='D:\\\\Work\\\\data\\\\dataset\\\\C10 CSH-Y\\\\001.json' mode='w' encoding='UTF-8'>\n",
      "D:\\Work\\data\\dataset\\C10 CSH-Y\\003.json\n",
      "<_io.TextIOWrapper name='D:\\\\Work\\\\data\\\\dataset\\\\C10 CSH-Y\\\\003.json' mode='w' encoding='UTF-8'>\n",
      "D:\\Work\\data\\dataset\\C10CSHUY\\090.json\n",
      "<_io.TextIOWrapper name='D:\\\\Work\\\\data\\\\dataset\\\\C10CSHUY\\\\090.json' mode='w' encoding='UTF-8'>\n",
      "D:\\Work\\data\\dataset\\C10CSHUY\\095.json\n",
      "<_io.TextIOWrapper name='D:\\\\Work\\\\data\\\\dataset\\\\C10CSHUY\\\\095.json' mode='w' encoding='UTF-8'>\n",
      "D:\\Work\\data\\dataset\\C10CSHUY\\098.json\n",
      "<_io.TextIOWrapper name='D:\\\\Work\\\\data\\\\dataset\\\\C10CSHUY\\\\098.json' mode='w' encoding='UTF-8'>\n",
      "D:\\Work\\data\\dataset\\C10CSHUY\\099.json\n",
      "<_io.TextIOWrapper name='D:\\\\Work\\\\data\\\\dataset\\\\C10CSHUY\\\\099.json' mode='w' encoding='UTF-8'>\n",
      "D:\\Work\\data\\dataset\\W18 S-UW\\017.json\n",
      "<_io.TextIOWrapper name='D:\\\\Work\\\\data\\\\dataset\\\\W18 S-UW\\\\017.json' mode='w' encoding='UTF-8'>\n",
      "D:\\Work\\data\\dataset\\W18 S-UW\\021.json\n",
      "<_io.TextIOWrapper name='D:\\\\Work\\\\data\\\\dataset\\\\W18 S-UW\\\\021.json' mode='w' encoding='UTF-8'>\n",
      "D:\\Work\\data\\dataset\\W18 S-UW\\023.json\n",
      "<_io.TextIOWrapper name='D:\\\\Work\\\\data\\\\dataset\\\\W18 S-UW\\\\023.json' mode='w' encoding='UTF-8'>\n",
      "D:\\Work\\data\\dataset\\W18 S-UW\\026.json\n",
      "<_io.TextIOWrapper name='D:\\\\Work\\\\data\\\\dataset\\\\W18 S-UW\\\\026.json' mode='w' encoding='UTF-8'>\n",
      "D:\\Work\\data\\dataset\\W18 S-UW\\069.json\n",
      "<_io.TextIOWrapper name='D:\\\\Work\\\\data\\\\dataset\\\\W18 S-UW\\\\069.json' mode='w' encoding='UTF-8'>\n",
      "D:\\Work\\data\\dataset\\Y18 VXUW\\018.json\n",
      "<_io.TextIOWrapper name='D:\\\\Work\\\\data\\\\dataset\\\\Y18 VXUW\\\\018.json' mode='w' encoding='UTF-8'>\n",
      "D:\\Work\\data\\dataset\\Z10 S-UW\\006.json\n",
      "<_io.TextIOWrapper name='D:\\\\Work\\\\data\\\\dataset\\\\Z10 S-UW\\\\006.json' mode='w' encoding='UTF-8'>\n",
      "D:\\Work\\data\\dataset\\Z10 S-UW\\008.json\n",
      "<_io.TextIOWrapper name='D:\\\\Work\\\\data\\\\dataset\\\\Z10 S-UW\\\\008.json' mode='w' encoding='UTF-8'>\n",
      "D:\\Work\\data\\dataset\\Z10 S-UW\\029.json\n",
      "<_io.TextIOWrapper name='D:\\\\Work\\\\data\\\\dataset\\\\Z10 S-UW\\\\029.json' mode='w' encoding='UTF-8'>\n",
      "D:\\Work\\data\\dataset\\Z10 S-UW\\056.json\n",
      "<_io.TextIOWrapper name='D:\\\\Work\\\\data\\\\dataset\\\\Z10 S-UW\\\\056.json' mode='w' encoding='UTF-8'>\n",
      "D:\\Work\\data\\dataset\\Z10 S-UW\\065.json\n",
      "<_io.TextIOWrapper name='D:\\\\Work\\\\data\\\\dataset\\\\Z10 S-UW\\\\065.json' mode='w' encoding='UTF-8'>\n",
      "D:\\Work\\data\\dataset\\Z18 S-UW\\039.json\n",
      "<_io.TextIOWrapper name='D:\\\\Work\\\\data\\\\dataset\\\\Z18 S-UW\\\\039.json' mode='w' encoding='UTF-8'>\n",
      "D:\\Work\\data\\dataset\\Z18 S-UW\\040.json\n",
      "<_io.TextIOWrapper name='D:\\\\Work\\\\data\\\\dataset\\\\Z18 S-UW\\\\040.json' mode='w' encoding='UTF-8'>\n",
      "D:\\Work\\data\\dataset\\Z18 S-UW\\041.json\n",
      "<_io.TextIOWrapper name='D:\\\\Work\\\\data\\\\dataset\\\\Z18 S-UW\\\\041.json' mode='w' encoding='UTF-8'>\n",
      "D:\\Work\\data\\dataset\\Z18 S-UW\\042.json\n",
      "<_io.TextIOWrapper name='D:\\\\Work\\\\data\\\\dataset\\\\Z18 S-UW\\\\042.json' mode='w' encoding='UTF-8'>\n",
      "D:\\Work\\data\\dataset\\Z18 S-UW\\043.json\n",
      "<_io.TextIOWrapper name='D:\\\\Work\\\\data\\\\dataset\\\\Z18 S-UW\\\\043.json' mode='w' encoding='UTF-8'>\n",
      "D:\\Work\\data\\dataset\\Z18 S-UW\\044.json\n",
      "<_io.TextIOWrapper name='D:\\\\Work\\\\data\\\\dataset\\\\Z18 S-UW\\\\044.json' mode='w' encoding='UTF-8'>\n",
      "D:\\Work\\data\\dataset\\Z18 S-UW\\045.json\n",
      "<_io.TextIOWrapper name='D:\\\\Work\\\\data\\\\dataset\\\\Z18 S-UW\\\\045.json' mode='w' encoding='UTF-8'>\n",
      "D:\\Work\\data\\dataset\\Z18 S-UW\\046.json\n",
      "<_io.TextIOWrapper name='D:\\\\Work\\\\data\\\\dataset\\\\Z18 S-UW\\\\046.json' mode='w' encoding='UTF-8'>\n",
      "D:\\Work\\data\\dataset\\Z18 S-UW\\047.json\n",
      "<_io.TextIOWrapper name='D:\\\\Work\\\\data\\\\dataset\\\\Z18 S-UW\\\\047.json' mode='w' encoding='UTF-8'>\n",
      "D:\\Work\\data\\dataset\\Z18 S-UW\\049.json\n",
      "<_io.TextIOWrapper name='D:\\\\Work\\\\data\\\\dataset\\\\Z18 S-UW\\\\049.json' mode='w' encoding='UTF-8'>\n",
      "D:\\Work\\data\\dataset\\Z18 S-UW\\050.json\n",
      "<_io.TextIOWrapper name='D:\\\\Work\\\\data\\\\dataset\\\\Z18 S-UW\\\\050.json' mode='w' encoding='UTF-8'>\n",
      "D:\\Work\\data\\dataset\\Z18 S-UW\\051.json\n",
      "<_io.TextIOWrapper name='D:\\\\Work\\\\data\\\\dataset\\\\Z18 S-UW\\\\051.json' mode='w' encoding='UTF-8'>\n",
      "D:\\Work\\data\\dataset\\Z18 S-UW\\052.json\n",
      "<_io.TextIOWrapper name='D:\\\\Work\\\\data\\\\dataset\\\\Z18 S-UW\\\\052.json' mode='w' encoding='UTF-8'>\n",
      "D:\\Work\\data\\dataset\\Z18 S-UW\\107.json\n",
      "<_io.TextIOWrapper name='D:\\\\Work\\\\data\\\\dataset\\\\Z18 S-UW\\\\107.json' mode='w' encoding='UTF-8'>\n",
      "D:\\Work\\data\\dataset\\Z18 S-UW\\109.json\n",
      "<_io.TextIOWrapper name='D:\\\\Work\\\\data\\\\dataset\\\\Z18 S-UW\\\\109.json' mode='w' encoding='UTF-8'>\n",
      "D:\\Work\\data\\dataset\\Z18 S-UW\\110.json\n",
      "<_io.TextIOWrapper name='D:\\\\Work\\\\data\\\\dataset\\\\Z18 S-UW\\\\110.json' mode='w' encoding='UTF-8'>\n",
      "D:\\Work\\data\\dataset\\Z18 S-UW\\112.json\n",
      "<_io.TextIOWrapper name='D:\\\\Work\\\\data\\\\dataset\\\\Z18 S-UW\\\\112.json' mode='w' encoding='UTF-8'>\n",
      "D:\\Work\\data\\dataset\\Z18 S-UW\\113.json\n",
      "<_io.TextIOWrapper name='D:\\\\Work\\\\data\\\\dataset\\\\Z18 S-UW\\\\113.json' mode='w' encoding='UTF-8'>\n",
      "D:\\Work\\data\\dataset\\Z18 S-UW\\114.json\n",
      "<_io.TextIOWrapper name='D:\\\\Work\\\\data\\\\dataset\\\\Z18 S-UW\\\\114.json' mode='w' encoding='UTF-8'>\n",
      "D:\\Work\\data\\dataset\\Z18 S-UW\\115.json\n",
      "<_io.TextIOWrapper name='D:\\\\Work\\\\data\\\\dataset\\\\Z18 S-UW\\\\115.json' mode='w' encoding='UTF-8'>\n",
      "D:\\Work\\data\\dataset\\Z18 S-UW\\116.json\n",
      "<_io.TextIOWrapper name='D:\\\\Work\\\\data\\\\dataset\\\\Z18 S-UW\\\\116.json' mode='w' encoding='UTF-8'>\n"
     ]
    }
   ],
   "source": [
    "def set_path(im_path):\n",
    "    for folder in os.listdir(im_path):\n",
    "        folder_path = os.path.join(im_path, folder)\n",
    "        \n",
    "        # os.makedirs(os.path.join(self.new_path, folder), exist_ok=True)\n",
    "        for file in os.listdir(folder_path):\n",
    "            if file.endswith(\".json\"):\n",
    "                file_path = os.path.join(folder_path, file)\n",
    "                print(file_path)\n",
    "                # data = pd.read_json(file_path)\n",
    "                # print(data)\n",
    "                with open(file_path, \"w\") as f:\n",
    "                    print(f)\n",
    "\n",
    "im_path = \"D:\\Work\\data\\dataset\"\n",
    "\n",
    "set_path(im_path=im_path)"
   ]
  },
  {
   "cell_type": "code",
   "execution_count": null,
   "metadata": {},
   "outputs": [],
   "source": []
  }
 ],
 "metadata": {
  "kernelspec": {
   "display_name": "Python 3 (ipykernel)",
   "language": "python",
   "name": "python3"
  },
  "language_info": {
   "codemirror_mode": {
    "name": "ipython",
    "version": 3
   },
   "file_extension": ".py",
   "mimetype": "text/x-python",
   "name": "python",
   "nbconvert_exporter": "python",
   "pygments_lexer": "ipython3",
   "version": "3.10.14"
  }
 },
 "nbformat": 4,
 "nbformat_minor": 4
}
