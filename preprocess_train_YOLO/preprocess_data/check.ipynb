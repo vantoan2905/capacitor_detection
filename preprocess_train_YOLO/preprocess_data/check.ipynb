{
 "cells": [
  {
   "cell_type": "code",
   "execution_count": 21,
   "metadata": {},
   "outputs": [],
   "source": [
    "import os\n",
    "import pandas as pd\n",
    "import shutil\n",
    "\n",
    "\n",
    "path_19v1_ = r\"D:\\Work\\codev2\\data\\final_data\\final_19.9v1\"\n",
    "path_19all =  r\"D:\\Work\\codev2\\data\\final_data\\19.9\"\n",
    "save_path = r\"D:\\Work\\codev2\\data\\first_data\\19.9v2\"\n",
    "\n",
    "path_file_19v1 = []\n",
    "path_file_19all = []\n",
    "\n",
    "for folder in os.listdir(path_19v1_):\n",
    "    path_19v1 = os.path.join(path_19v1_, folder)\n",
    "    for file in os.listdir(path_19v1):\n",
    "        if file.endswith(\".bmp\"):\n",
    "            path_file_19v1.append(file)\n",
    "\n",
    "\n",
    "for folder in os.listdir(path_19all):\n",
    "    path_19all_ = os.path.join(path_19all, folder)\n",
    "    os.makedirs(os.path.join(save_path, folder), exist_ok=True)\n",
    "    save_path_ = os.path.join(save_path, folder)\n",
    "    for file in os.listdir(path_19all_):\n",
    "        if file.endswith(\".bmp\"):\n",
    "            if file not in path_file_19v1:\n",
    "                shutil.copy(os.path.join(path_19all_, file), save_path_)\n",
    "           "
   ]
  },
  {
   "cell_type": "code",
   "execution_count": null,
   "metadata": {},
   "outputs": [],
   "source": []
  }
 ],
 "metadata": {
  "kernelspec": {
   "display_name": "yolo",
   "language": "python",
   "name": "python3"
  },
  "language_info": {
   "codemirror_mode": {
    "name": "ipython",
    "version": 3
   },
   "file_extension": ".py",
   "mimetype": "text/x-python",
   "name": "python",
   "nbconvert_exporter": "python",
   "pygments_lexer": "ipython3",
   "version": "3.10.14"
  }
 },
 "nbformat": 4,
 "nbformat_minor": 2
}
