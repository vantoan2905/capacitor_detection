{
 "cells": [
  {
   "cell_type": "code",
   "execution_count": 1,
   "metadata": {},
   "outputs": [],
   "source": [
    "import os\n",
    "import json\n",
    "import pandas as pd\n",
    "import numpy as np\n",
    "from math import ceil, sqrt\n"
   ]
  },
  {
   "cell_type": "code",
   "execution_count": 2,
   "metadata": {},
   "outputs": [],
   "source": [
    "\n",
    "path_csv = r\"D:\\Work\\codev2\\code\\work_code\\preprocess_data\\053.csv\""
   ]
  },
  {
   "cell_type": "code",
   "execution_count": 3,
   "metadata": {},
   "outputs": [],
   "source": [
    "\n",
    "# df = pd.read_csv(path_csv)\n",
    "# temp_1 = []\n",
    "# temp_2 = []\n",
    "# count = 0\n",
    "# for i, row in enumerate(df.iterrows()):\n",
    "#     # print(i)\n",
    "#     row = list(row[1])\n",
    "#     if i == 0:\n",
    "#         temp_1 = row\n",
    "#     temp_2 = row\n",
    "#     # print(row[1])\n",
    "#     count += 1\n",
    "#     if temp_2[1] == temp_1[3]:\n",
    "#         print(count)\n",
    "#         print(row)\n",
    "#         temp_1 = temp_2\n",
    "\n"
   ]
  },
  {
   "cell_type": "code",
   "execution_count": 4,
   "metadata": {},
   "outputs": [],
   "source": [
    "\n",
    "# df = pd.read_csv(path_csv)\n",
    "# df.insert(9,\"Row\", True)\n",
    "# df.insert(10,\"Col\", True)\n",
    "# temp_1 = []\n",
    "# count_row = 1\n",
    "# count_col = 0\n",
    "\n",
    "# for i, row in df.iterrows():\n",
    "#     row = list(row)\n",
    "    \n",
    "#     if i == 0:\n",
    "#         temp_1 = row  \n",
    "    \n",
    "#     temp_2 = row \n",
    "    \n",
    "#     count_col +=1\n",
    "\n",
    "#     if temp_2[1] == temp_1[3]:\n",
    "#         print(f\"Count: {count}\")\n",
    "#         count_col = 1\n",
    "#         print(f\"Row: {row}\")\n",
    "#         temp_1 = temp_2 \n",
    "#         count_row += 1\n",
    "#     #################################################################\n",
    "#     #################################################################\n",
    "#     # count_row += 1\n",
    "    \n",
    "#     df.at[i, 'Row'] = count_row\n",
    "#     df.at[i, 'Col'] = count_col\n",
    "\n",
    "\n",
    "\n",
    "    \n",
    "\n",
    "#     #################################################################\n",
    "#     #################################################################\n",
    "    \n",
    "# df.to_csv(\"aaas.csv\", index=False)\n"
   ]
  },
  {
   "cell_type": "code",
   "execution_count": 5,
   "metadata": {},
   "outputs": [],
   "source": [
    "def add_defect(path_csv, save_path):\n",
    "    df = pd.read_csv(path_csv)\n",
    "    df.insert(9,\"Col\", True)\n",
    "    df.insert(10,\"Row\", True)\n",
    "    temp_1 = []\n",
    "    count_row = 1\n",
    "    count_col = 0\n",
    "\n",
    "    for i, row in df.iterrows():\n",
    "        row = list(row)\n",
    "        \n",
    "        if i == 0:\n",
    "            temp_1 = row  \n",
    "        \n",
    "        temp_2 = row \n",
    "        \n",
    "        count_col +=1\n",
    "\n",
    "        if temp_2[1] == temp_1[3]:\n",
    "            count_col = 1\n",
    "            temp_1 = temp_2 \n",
    "            count_row += 1\n",
    "        #################################################################\n",
    "        #################################################################\n",
    "        \n",
    "        df.at[i, 'Col'] = count_col\n",
    "        df.at[i, 'Row'] = count_row\n",
    "\n",
    "        #################################################################\n",
    "        #################################################################\n",
    "        \n",
    "    df.to_csv(os.path.join(save_path , path_csv[-7:-4]+\".csv\"), index=False)\n"
   ]
  },
  {
   "cell_type": "code",
   "execution_count": 6,
   "metadata": {},
   "outputs": [
    {
     "name": "stderr",
     "output_type": "stream",
     "text": [
      "C:\\Users\\toanv\\AppData\\Local\\Temp\\ipykernel_22036\\3358226274.py:26: FutureWarning: Setting an item of incompatible dtype is deprecated and will raise an error in a future version of pandas. Value '1' has dtype incompatible with bool, please explicitly cast to a compatible dtype first.\n",
      "  df.at[i, 'Col'] = count_col\n",
      "C:\\Users\\toanv\\AppData\\Local\\Temp\\ipykernel_22036\\3358226274.py:27: FutureWarning: Setting an item of incompatible dtype is deprecated and will raise an error in a future version of pandas. Value '1' has dtype incompatible with bool, please explicitly cast to a compatible dtype first.\n",
      "  df.at[i, 'Row'] = count_row\n",
      "C:\\Users\\toanv\\AppData\\Local\\Temp\\ipykernel_22036\\3358226274.py:26: FutureWarning: Setting an item of incompatible dtype is deprecated and will raise an error in a future version of pandas. Value '1' has dtype incompatible with bool, please explicitly cast to a compatible dtype first.\n",
      "  df.at[i, 'Col'] = count_col\n",
      "C:\\Users\\toanv\\AppData\\Local\\Temp\\ipykernel_22036\\3358226274.py:27: FutureWarning: Setting an item of incompatible dtype is deprecated and will raise an error in a future version of pandas. Value '1' has dtype incompatible with bool, please explicitly cast to a compatible dtype first.\n",
      "  df.at[i, 'Row'] = count_row\n"
     ]
    }
   ],
   "source": [
    "\n",
    "# list_path= [r\"D:\\Work\\codev2\\data\\final_data\\final_19.9v1\", r\"D:\\Work\\codev2\\data\\final_data\\final_19.9v2\", r\"D:\\Work\\codev2\\data\\final_data\\final_20.09\",  r\"D:\\Work\\codev2\\data\\final_data\\final_24.09\", \\\n",
    "# r\"D:\\Work\\codev2\\data\\final_data\\final_25.09\", r\"D:\\Work\\codev2\\data\\final_data\\final_26.09\", r\"D:\\Work\\codev2\\data\\final_data\\final_27.09\"]\n",
    "list_path = [r\"D:\\Work\\codev2\\code\\work_code\\preprocess_data\\fix\"]\n",
    "save_path = r\"D:\\Work\\codev2\\code\\work_code\\preprocess_data\\adasd\"\n",
    "for path in list_path:\n",
    "    for folder in os.listdir(path):\n",
    "        for file in os.listdir(os.path.join(path, folder)):\n",
    "            if file.endswith(\".csv\"):\n",
    "                add_defect(os.path.join(path, folder, file), save_path)"
   ]
  },
  {
   "cell_type": "code",
   "execution_count": 7,
   "metadata": {},
   "outputs": [
    {
     "name": "stdout",
     "output_type": "stream",
     "text": [
      "343 343\n",
      "343.csv\n",
      "380 380\n",
      "380.csv\n"
     ]
    },
    {
     "name": "stderr",
     "output_type": "stream",
     "text": [
      "C:\\Users\\toanv\\AppData\\Local\\Temp\\ipykernel_22036\\2161043429.py:24: FutureWarning: Setting an item of incompatible dtype is deprecated and will raise an error in a future version of pandas. Value 'HAPPO' has dtype incompatible with bool, please explicitly cast to a compatible dtype first.\n",
      "  df.at[j, 'Defect'] = defect[3]\n",
      "C:\\Users\\toanv\\AppData\\Local\\Temp\\ipykernel_22036\\2161043429.py:24: FutureWarning: Setting an item of incompatible dtype is deprecated and will raise an error in a future version of pandas. Value 'HAPPO' has dtype incompatible with bool, please explicitly cast to a compatible dtype first.\n",
      "  df.at[j, 'Defect'] = defect[3]\n"
     ]
    }
   ],
   "source": [
    "\n",
    "save_path = r\"D:\\Work\\codev2\\code\\work_code\\preprocess_data\\adasd\"\n",
    "path_an_ex = r\"D:\\Work\\codev2\\code\\work_code\\preprocess_data\\processed_defect_data_updated.xlsx\"\n",
    "save_an_path = r\"D:\\Work\\codev2\\code\\work_code\\preprocess_data\\ada\"\n",
    "\n",
    "data = pd.read_excel(path_an_ex)\n",
    "\n",
    "for file in os.listdir(save_path):\n",
    "    if file.endswith(\".csv\"):\n",
    "        df = pd.read_csv(os.path.join(save_path, file))\n",
    "        df.insert(11, \"Defect\", True)\n",
    "        # print(df)\n",
    "        # print(int(file[:-4]))\n",
    "        for i, defect in data.iterrows():\n",
    "            defect = list(defect)\n",
    "            # print(int(file[:-4]))\n",
    "            # for j, row in df.iterrows():\n",
    "            #     row = list(row)\n",
    "            #     df.at[j, 'Defect'] = \"Not_Available\"\n",
    "            if defect[0] == int(file[:-4]):\n",
    "                print(defect[0], int(file[:-4]))\n",
    "                for j, row in df.iterrows():\n",
    "                    row = list(row)\n",
    "                    if row[9] == defect[1] and row[10] == defect[2]:\n",
    "                        df.at[j, 'Defect'] = defect[3]\n",
    "        print(file)           \n",
    "        df.to_csv(os.path.join(save_an_path, file), index=False)\n",
    "        # break\n",
    "    "
   ]
  },
  {
   "cell_type": "code",
   "execution_count": null,
   "metadata": {},
   "outputs": [],
   "source": []
  }
 ],
 "metadata": {
  "kernelspec": {
   "display_name": "yolo",
   "language": "python",
   "name": "python3"
  },
  "language_info": {
   "codemirror_mode": {
    "name": "ipython",
    "version": 3
   },
   "file_extension": ".py",
   "mimetype": "text/x-python",
   "name": "python",
   "nbconvert_exporter": "python",
   "pygments_lexer": "ipython3",
   "version": "3.10.14"
  }
 },
 "nbformat": 4,
 "nbformat_minor": 2
}
