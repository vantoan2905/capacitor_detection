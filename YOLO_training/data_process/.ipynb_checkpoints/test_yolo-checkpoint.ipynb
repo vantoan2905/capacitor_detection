{
 "cells": [
  {
   "cell_type": "code",
   "execution_count": 1,
   "metadata": {},
   "outputs": [
    {
     "name": "stderr",
     "output_type": "stream",
     "text": [
      "[2024-09-27T09:05:29Z INFO  labelme2yolo] Starting the conversion process...\n",
      "[2024-09-27T09:05:29Z INFO  labelme2yolo] Read and parsed 43 JSON files.\n",
      "[2024-09-27T09:05:30Z INFO  labelme2yolo] Creating dataset.yaml file...\n",
      "[2024-09-27T09:05:30Z INFO  labelme2yolo] Conversion process completed successfully.\n"
     ]
    }
   ],
   "source": [
    "!labelme2yolo --json_dir D:\\Work\\codev2\\code\\work_code\\model_code\\yolo_data\\"
   ]
  },
  {
   "cell_type": "code",
   "execution_count": 5,
   "metadata": {},
   "outputs": [
    {
     "name": "stdout",
     "output_type": "stream",
     "text": [
      "Downloading https://github.com/ultralytics/assets/releases/download/v8.2.0/yolov10x.pt to 'yolov10x.pt'...\n"
     ]
    },
    {
     "data": {
      "application/vnd.jupyter.widget-view+json": {
       "model_id": "b5c09b4eab3f4524b1af04d024f995a5",
       "version_major": 2,
       "version_minor": 0
      },
      "text/plain": [
       "  0%|          | 0.00/61.4M [00:00<?, ?B/s]"
      ]
     },
     "metadata": {},
     "output_type": "display_data"
    }
   ],
   "source": [
    "import ultralytics\n",
    "from ultralytics import YOLO\n",
    "\n",
    "\n",
    "model = YOLO('yolov10x.pt')"
   ]
  },
  {
   "cell_type": "code",
   "execution_count": null,
   "metadata": {},
   "outputs": [],
   "source": [
    "import cv2\n",
    "\n",
    "img = cv2.imread(\"D:\\Work\\codev2\\code\\test\\image.png\")\n",
    "\n",
    "# cv2.imread() -> takes an image as an input\n",
    "h, w, channels = img.shape\n",
    "\n",
    "half = w//2\n",
    "\n",
    "\n",
    "# this will be the first column\n",
    "left_part = img[:, :half] \n",
    "\n",
    "# [:,:half] means all the rows and\n",
    "# all the columns upto index half\n",
    "\n",
    "# this will be the second column\n",
    "right_part = img[:, half:] \n",
    "\n",
    "# [:,half:] means all the rows and all\n",
    "# the columns from index half to the end\n",
    "# cv2.imshow is used for displaying the image\n",
    "cv2.imshow('Left part', left_part)\n",
    "cv2.imshow('Right part', right_part)\n",
    "\n",
    "# this is horizontal division\n",
    "half2 = h//2\n",
    "\n",
    "top = img[:half2, :]\n",
    "bottom = img[half2:, :]\n",
    "\n",
    "cv2.imshow('Top', top)\n",
    "cv2.imshow('Bottom', bottom)\n",
    "\n",
    "# saving all the images\n",
    "# cv2.imwrite() function will save the image \n",
    "# into your pc\n",
    "cv2.imwrite('top.jpg', top)\n",
    "cv2.imwrite('bottom.jpg', bottom)\n",
    "cv2.imwrite('right.jpg', right_part)\n",
    "cv2.imwrite('left.jpg', left_part)\n",
    "cv2.waitKey(0)\n"
   ]
  }
 ],
 "metadata": {
  "kernelspec": {
   "display_name": "sup",
   "language": "python",
   "name": "python3"
  },
  "language_info": {
   "codemirror_mode": {
    "name": "ipython",
    "version": 3
   },
   "file_extension": ".py",
   "mimetype": "text/x-python",
   "name": "python",
   "nbconvert_exporter": "python",
   "pygments_lexer": "ipython3",
   "version": "3.10.14"
  }
 },
 "nbformat": 4,
 "nbformat_minor": 2
}
